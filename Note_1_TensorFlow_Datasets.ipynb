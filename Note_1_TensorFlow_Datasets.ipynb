{
  "nbformat": 4,
  "nbformat_minor": 0,
  "metadata": {
    "colab": {
      "name": "Note_1_TensorFlow_Datasets.ipynb",
      "provenance": [],
      "collapsed_sections": [],
      "mount_file_id": "1RpXvS36aJlPjl0ZhbkU-YG8GqMvtMRBI",
      "authorship_tag": "ABX9TyMDNp02vjALo7yfTLoUNcQC",
      "include_colab_link": true
    },
    "kernelspec": {
      "name": "python3",
      "display_name": "Python 3"
    },
    "accelerator": "GPU"
  },
  "cells": [
    {
      "cell_type": "markdown",
      "metadata": {
        "id": "view-in-github",
        "colab_type": "text"
      },
      "source": [
        "<a href=\"https://colab.research.google.com/github/Davidxswang/ML/blob/master/Note_1_TensorFlow_Datasets.ipynb\" target=\"_parent\"><img src=\"https://colab.research.google.com/assets/colab-badge.svg\" alt=\"Open In Colab\"/></a>"
      ]
    },
    {
      "cell_type": "code",
      "metadata": {
        "id": "wer7IfYTQEC_",
        "colab_type": "code",
        "colab": {}
      },
      "source": [
        "import tensorflow_datasets as tfds\n",
        "import tensorflow as tf\n",
        "\n",
        "import matplotlib.pyplot as plt\n",
        "import numpy as np"
      ],
      "execution_count": 0,
      "outputs": []
    },
    {
      "cell_type": "code",
      "metadata": {
        "id": "CY3vNJhTZy4b",
        "colab_type": "code",
        "outputId": "e274d327-7b32-4d8c-e018-79d3907ee396",
        "colab": {
          "base_uri": "https://localhost:8080/",
          "height": 34
        }
      },
      "source": [
        "! pwd\n",
        "# mnist dataset is stored in the path below\n",
        "#! mkdir /content/drive/My\\ Drive/colab/mnist"
      ],
      "execution_count": 0,
      "outputs": [
        {
          "output_type": "stream",
          "text": [
            "/content\n"
          ],
          "name": "stdout"
        }
      ]
    },
    {
      "cell_type": "code",
      "metadata": {
        "id": "5NDidZVSY-2M",
        "colab_type": "code",
        "colab": {}
      },
      "source": [
        "# To see what datasets are available (included in tfds)\n",
        "if False:\n",
        "  tfds.list_builders()"
      ],
      "execution_count": 0,
      "outputs": []
    },
    {
      "cell_type": "code",
      "metadata": {
        "id": "_Wc1sk2PTOBM",
        "colab_type": "code",
        "outputId": "3118acb6-abcb-42db-9630-75a8ebdc0141",
        "colab": {
          "base_uri": "https://localhost:8080/",
          "height": 544
        }
      },
      "source": [
        "# all the configs\n",
        "as_supervised = False\n",
        "# if True, elements in ds_train are tuple, if False, elements are dict\n",
        "\n",
        "\n",
        "batch_size = None  \n",
        "# -1, load the full batch into a tuple/dict, ds_train will be a tuple if used with as_supervised=True, a dict if as_supervised=False\n",
        "# None, ds_train will be tf.data.Dataset, no matter what as_supervised is\n",
        "\n",
        "\n",
        "\n",
        "\n",
        "\n",
        "\n",
        "# load the data\n",
        "(ds_train, ds_val, ds_test), ds_info = tfds.load(\n",
        "    'mnist',\n",
        "    split=['train[:80%]', 'train[80%:]', 'test'],\n",
        "    shuffle_files=True,\n",
        "    as_supervised=as_supervised,     \n",
        "    with_info=True,\n",
        "    data_dir='/content/drive/My Drive/colab/mnist',\n",
        "    batch_size=batch_size\n",
        ")\n",
        "print(ds_info)\n",
        "print('ds_train type is (tuple, dict or tf.data.Dataset): ', type(ds_train))\n",
        "\n",
        "\n",
        "\n",
        "\n",
        "\n",
        "# take a look at the internal structure of the data\n",
        "if batch_size == -1:\n",
        "  # ds_train will be dict or tuple\n",
        "  if as_supervised:\n",
        "    print('ds_train will be a tuple (images, labels)')\n",
        "    print('How many images in ds_train: ', len(ds_train[0]))\n",
        "    print('Type of elements in ds_train\\'s images: ', type(ds_train[0][0]))\n",
        "    print('Shape of the image: ', ds_train[0][0].shape)\n",
        "    print('Type of elements in ds_train\\'s labels: ', type(ds_train[1][0]))\n",
        "    print('The value of the label: ', ds_train[1][0].numpy())\n",
        "  else:\n",
        "    print('ds_train will be a dict {\\'image\\': image, \\'label\\': label}')\n",
        "    print('Type of ds_train[\\'image\\']: ', type(ds_train['image']))\n",
        "    print('Shape of ds_train[\"image\"]: ', ds_train['image'].shape)\n",
        "    print('Type of ds_train[\\'label\\']: ', type(ds_train['label']))\n",
        "    print('Shape of ds_train[\"label\"]: ', ds_train['label'].shape)\n",
        "elif batch_size is None:\n",
        "  # ds_train will be a tf.data.Dataset\n",
        "  ds = ds_train.take(1)\n",
        "  for data in ds:\n",
        "    print(type(data))\n",
        "    if as_supervised:\n",
        "      # data will be tuple if True\n",
        "      print(type(data[0]))\n",
        "      print(data[0].shape)\n",
        "      print(type(data[1]))\n",
        "      print(data[1].shape)\n",
        "    else:\n",
        "      # data will be tuple if False\n",
        "      print(list(data.keys()))\n",
        "      print(type(data['image']))\n",
        "      print(data['image'].shape)\n",
        "      print(type(data['label']))\n",
        "      print(data['label'].shape)"
      ],
      "execution_count": 0,
      "outputs": [
        {
          "output_type": "stream",
          "text": [
            "tfds.core.DatasetInfo(\n",
            "    name='mnist',\n",
            "    version=3.0.0,\n",
            "    description='The MNIST database of handwritten digits.',\n",
            "    homepage='http://yann.lecun.com/exdb/mnist/',\n",
            "    features=FeaturesDict({\n",
            "        'image': Image(shape=(28, 28, 1), dtype=tf.uint8),\n",
            "        'label': ClassLabel(shape=(), dtype=tf.int64, num_classes=10),\n",
            "    }),\n",
            "    total_num_examples=70000,\n",
            "    splits={\n",
            "        'test': 10000,\n",
            "        'train': 60000,\n",
            "    },\n",
            "    supervised_keys=('image', 'label'),\n",
            "    citation=\"\"\"@article{lecun2010mnist,\n",
            "      title={MNIST handwritten digit database},\n",
            "      author={LeCun, Yann and Cortes, Corinna and Burges, CJ},\n",
            "      journal={ATT Labs [Online]. Available: http://yann. lecun. com/exdb/mnist},\n",
            "      volume={2},\n",
            "      year={2010}\n",
            "    }\"\"\",\n",
            "    redistribution_info=,\n",
            ")\n",
            "\n",
            "ds_train type is (tuple, dict or tf.data.Dataset):  <class 'dict'>\n",
            "ds_train will be a dict {'image': image, 'label': label}\n",
            "Type of ds_train['image']:  <class 'tensorflow.python.framework.ops.EagerTensor'>\n",
            "Shape of ds_train[\"image\"]:  (48000, 28, 28, 1)\n",
            "Type of ds_train['label']:  <class 'tensorflow.python.framework.ops.EagerTensor'>\n",
            "Shape of ds_train[\"label\"]:  (48000,)\n"
          ],
          "name": "stdout"
        }
      ]
    },
    {
      "cell_type": "code",
      "metadata": {
        "id": "ai46JjN3UbTl",
        "colab_type": "code",
        "outputId": "a7a9fa5f-f0d1-4b15-ef22-29a44472f6cb",
        "colab": {
          "base_uri": "https://localhost:8080/",
          "height": 119
        }
      },
      "source": [
        ""
      ],
      "execution_count": 0,
      "outputs": [
        {
          "output_type": "stream",
          "text": [
            "<class 'tensorflow.python.data.ops.dataset_ops.DatasetV1Adapter'>\n",
            "<class 'tuple'>\n",
            "<class 'tensorflow.python.framework.ops.EagerTensor'>\n",
            "(28, 28, 1)\n",
            "<class 'tensorflow.python.framework.ops.EagerTensor'>\n",
            "()\n"
          ],
          "name": "stdout"
        }
      ]
    },
    {
      "cell_type": "code",
      "metadata": {
        "id": "-E8cBY-qWPP8",
        "colab_type": "code",
        "outputId": "2b47e47d-61a0-4825-a89a-8695d603305e",
        "colab": {
          "base_uri": "https://localhost:8080/",
          "height": 34
        }
      },
      "source": [
        "# data is tuple like\n",
        "if as_supervised:\n",
        "  # since True, element will be tuple like\n",
        "  ds = ds_train.take(1)\n",
        "  for image, label in tfds.as_numpy(ds):\n",
        "    # after using tfds.as_numpy, the tf.Tensor -> np.ndarray, tf.data.Dataset -> Generator[np.array]\n",
        "    print(type(image), type(label), label)\n",
        "\n"
      ],
      "execution_count": 0,
      "outputs": [
        {
          "output_type": "stream",
          "text": [
            "<class 'numpy.ndarray'> <class 'numpy.int64'> 8\n"
          ],
          "name": "stdout"
        }
      ]
    },
    {
      "cell_type": "code",
      "metadata": {
        "id": "Q8QD8U2Tdu6j",
        "colab_type": "code",
        "colab": {}
      },
      "source": [
        ""
      ],
      "execution_count": 0,
      "outputs": []
    }
  ]
}